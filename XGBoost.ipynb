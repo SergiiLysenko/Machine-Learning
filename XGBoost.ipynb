{
 "cells": [
  {
   "cell_type": "code",
   "execution_count": 1,
   "metadata": {
    "collapsed": false
   },
   "outputs": [
    {
     "name": "stderr",
     "output_type": "stream",
     "text": [
      "C:\\Users\\uaadmin\\Anaconda3\\lib\\site-packages\\sklearn\\cross_validation.py:44: DeprecationWarning: This module was deprecated in version 0.18 in favor of the model_selection module into which all the refactored classes and functions are moved. Also note that the interface of the new CV iterators are different from that of this module. This module will be removed in 0.20.\n",
      "  \"This module will be removed in 0.20.\", DeprecationWarning)\n"
     ]
    }
   ],
   "source": [
    "import pandas as pd\n",
    "import xgboost as xgb\n",
    "import operator\n",
    "from matplotlib import pylab as plt\n",
    "from sklearn import preprocessing\n",
    "%matplotlib inline"
   ]
  },
  {
   "cell_type": "code",
   "execution_count": 2,
   "metadata": {
    "collapsed": false
   },
   "outputs": [],
   "source": [
    "#read data from cvs files \n",
    "path_to_Base1 = './Base1.csv'\n",
    "path_to_Base2 = './Base2.csv' \n",
    "path_to_test = './test.csv'\n",
    "path_to_train = './train.csv'\n",
    "\n",
    "Base1_df = pd.read_csv(path_to_Base1, sep=',')\n",
    "Base2_df = pd.read_csv(path_to_Base2, sep=',')\n",
    "train_df = pd.read_csv(path_to_train, sep=',')\n",
    "test_df = pd.read_csv(path_to_test, sep=',')"
   ]
  },
  {
   "cell_type": "code",
   "execution_count": 3,
   "metadata": {
    "collapsed": true
   },
   "outputs": [],
   "source": [
    "# #select  data only for the last month (MONTH_AGO =6) \n",
    "Base2M1=Base2_df.loc[Base2_df['MONTH_AGO'] == 6] "
   ]
  },
  {
   "cell_type": "code",
   "execution_count": 4,
   "metadata": {
    "collapsed": true
   },
   "outputs": [],
   "source": [
    "#prepare train and test datasets \n",
    "train=pd.merge(train_df, Base2M1, on='ID', how='left')\n",
    "train=pd.merge(train, Base1_df, on='ID', how='left')\n",
    "test=pd.merge(test_df, Base2M1, on='ID', how='left')\n",
    "test=pd.merge(test, Base1_df, on='ID', how='left')"
   ]
  },
  {
   "cell_type": "code",
   "execution_count": 5,
   "metadata": {
    "collapsed": false
   },
   "outputs": [
    {
     "name": "stdout",
     "output_type": "stream",
     "text": [
      "(10000, 49) (5000, 49)\n"
     ]
    }
   ],
   "source": [
    "print (train.shape,test.shape)"
   ]
  },
  {
   "cell_type": "code",
   "execution_count": 6,
   "metadata": {
    "collapsed": false
   },
   "outputs": [
    {
     "data": {
      "text/html": [
       "<div>\n",
       "<table border=\"1\" class=\"dataframe\">\n",
       "  <thead>\n",
       "    <tr style=\"text-align: right;\">\n",
       "      <th></th>\n",
       "      <th>Target</th>\n",
       "      <th>ID</th>\n",
       "      <th>MONTH_AGO</th>\n",
       "      <th>V1</th>\n",
       "      <th>V2</th>\n",
       "      <th>V3</th>\n",
       "      <th>V4</th>\n",
       "      <th>V5</th>\n",
       "      <th>V6</th>\n",
       "      <th>V7</th>\n",
       "      <th>...</th>\n",
       "      <th>V37</th>\n",
       "      <th>V38</th>\n",
       "      <th>V39</th>\n",
       "      <th>V40</th>\n",
       "      <th>V41</th>\n",
       "      <th>T1</th>\n",
       "      <th>T2</th>\n",
       "      <th>T3</th>\n",
       "      <th>T4</th>\n",
       "      <th>T5</th>\n",
       "    </tr>\n",
       "  </thead>\n",
       "  <tbody>\n",
       "    <tr>\n",
       "      <th>0</th>\n",
       "      <td>1</td>\n",
       "      <td>6851</td>\n",
       "      <td>6</td>\n",
       "      <td>29.433679</td>\n",
       "      <td>0.0</td>\n",
       "      <td>22.982971</td>\n",
       "      <td>0.000000</td>\n",
       "      <td>0.000000</td>\n",
       "      <td>109.348176</td>\n",
       "      <td>298.570739</td>\n",
       "      <td>...</td>\n",
       "      <td>0.000000</td>\n",
       "      <td>0.0</td>\n",
       "      <td>235.676187</td>\n",
       "      <td>35.412292</td>\n",
       "      <td>24.024417</td>\n",
       "      <td>0.0</td>\n",
       "      <td>93683a6e0b6bd3edd67ef43c2cecb4cfbd6b06d27722d9...</td>\n",
       "      <td>8ea76c2c46d5517b905cf8e07813b1110d61c9ed452431...</td>\n",
       "      <td>0fb19dacd118115dfae8dac219437a8527f4f28bce7074...</td>\n",
       "      <td>7ea85151d13febdc421dd3ebacba8d9c08c3688f3a9c29...</td>\n",
       "    </tr>\n",
       "    <tr>\n",
       "      <th>1</th>\n",
       "      <td>3</td>\n",
       "      <td>1485</td>\n",
       "      <td>6</td>\n",
       "      <td>17.169646</td>\n",
       "      <td>0.0</td>\n",
       "      <td>20.684674</td>\n",
       "      <td>0.000000</td>\n",
       "      <td>5.347143</td>\n",
       "      <td>85.686942</td>\n",
       "      <td>184.233201</td>\n",
       "      <td>...</td>\n",
       "      <td>0.881786</td>\n",
       "      <td>0.0</td>\n",
       "      <td>97.043136</td>\n",
       "      <td>31.871063</td>\n",
       "      <td>32.633166</td>\n",
       "      <td>NaN</td>\n",
       "      <td>NaN</td>\n",
       "      <td>NaN</td>\n",
       "      <td>NaN</td>\n",
       "      <td>NaN</td>\n",
       "    </tr>\n",
       "    <tr>\n",
       "      <th>2</th>\n",
       "      <td>3</td>\n",
       "      <td>2587</td>\n",
       "      <td>6</td>\n",
       "      <td>0.000000</td>\n",
       "      <td>0.0</td>\n",
       "      <td>20.684674</td>\n",
       "      <td>1.243865</td>\n",
       "      <td>NaN</td>\n",
       "      <td>22.497432</td>\n",
       "      <td>364.187396</td>\n",
       "      <td>...</td>\n",
       "      <td>0.000000</td>\n",
       "      <td>0.0</td>\n",
       "      <td>356.980106</td>\n",
       "      <td>31.871063</td>\n",
       "      <td>15.832091</td>\n",
       "      <td>1.0</td>\n",
       "      <td>06f2421bcda7cedcdc3478204645904af812e62238f165...</td>\n",
       "      <td>e7843ac01206c17efd45575f6e9f9443a138a099a4ac35...</td>\n",
       "      <td>ba52f8d4b29586449c5cd6ef81890cb9af48f492ba99c5...</td>\n",
       "      <td>973ca067b185cbd2ae7ef795d3e35e98454309e3c3d083...</td>\n",
       "    </tr>\n",
       "    <tr>\n",
       "      <th>3</th>\n",
       "      <td>2</td>\n",
       "      <td>7834</td>\n",
       "      <td>6</td>\n",
       "      <td>93.206649</td>\n",
       "      <td>0.0</td>\n",
       "      <td>21.450773</td>\n",
       "      <td>0.000000</td>\n",
       "      <td>1.782381</td>\n",
       "      <td>32.635620</td>\n",
       "      <td>207.712669</td>\n",
       "      <td>...</td>\n",
       "      <td>0.758336</td>\n",
       "      <td>NaN</td>\n",
       "      <td>84.335106</td>\n",
       "      <td>31.871063</td>\n",
       "      <td>13.862088</td>\n",
       "      <td>0.0</td>\n",
       "      <td>2904ac38d4fedd52ccb2c11cb3038a68004844fbdcb832...</td>\n",
       "      <td>8ea76c2c46d5517b905cf8e07813b1110d61c9ed452431...</td>\n",
       "      <td>f4447ab9a18e074f7d0aa56c6417296976ac0a168275d3...</td>\n",
       "      <td>7ea85151d13febdc421dd3ebacba8d9c08c3688f3a9c29...</td>\n",
       "    </tr>\n",
       "    <tr>\n",
       "      <th>4</th>\n",
       "      <td>1</td>\n",
       "      <td>9337</td>\n",
       "      <td>6</td>\n",
       "      <td>22.565820</td>\n",
       "      <td>0.0</td>\n",
       "      <td>NaN</td>\n",
       "      <td>0.000000</td>\n",
       "      <td>1.782381</td>\n",
       "      <td>124.190744</td>\n",
       "      <td>461.566229</td>\n",
       "      <td>...</td>\n",
       "      <td>0.529071</td>\n",
       "      <td>0.0</td>\n",
       "      <td>381.240890</td>\n",
       "      <td>35.412292</td>\n",
       "      <td>35.395974</td>\n",
       "      <td>1.0</td>\n",
       "      <td>e24e85d37fb651d26714fe75c55af377484ba67b651141...</td>\n",
       "      <td>1133a816b2e3f67edd21524d05e3f4da41c9fc9ae00df4...</td>\n",
       "      <td>ba52f8d4b29586449c5cd6ef81890cb9af48f492ba99c5...</td>\n",
       "      <td>973ca067b185cbd2ae7ef795d3e35e98454309e3c3d083...</td>\n",
       "    </tr>\n",
       "  </tbody>\n",
       "</table>\n",
       "<p>5 rows × 49 columns</p>\n",
       "</div>"
      ],
      "text/plain": [
       "   Target    ID  MONTH_AGO         V1   V2         V3        V4        V5  \\\n",
       "0       1  6851          6  29.433679  0.0  22.982971  0.000000  0.000000   \n",
       "1       3  1485          6  17.169646  0.0  20.684674  0.000000  5.347143   \n",
       "2       3  2587          6   0.000000  0.0  20.684674  1.243865       NaN   \n",
       "3       2  7834          6  93.206649  0.0  21.450773  0.000000  1.782381   \n",
       "4       1  9337          6  22.565820  0.0        NaN  0.000000  1.782381   \n",
       "\n",
       "           V6          V7                        ...                          \\\n",
       "0  109.348176  298.570739                        ...                           \n",
       "1   85.686942  184.233201                        ...                           \n",
       "2   22.497432  364.187396                        ...                           \n",
       "3   32.635620  207.712669                        ...                           \n",
       "4  124.190744  461.566229                        ...                           \n",
       "\n",
       "        V37  V38         V39        V40        V41   T1  \\\n",
       "0  0.000000  0.0  235.676187  35.412292  24.024417  0.0   \n",
       "1  0.881786  0.0   97.043136  31.871063  32.633166  NaN   \n",
       "2  0.000000  0.0  356.980106  31.871063  15.832091  1.0   \n",
       "3  0.758336  NaN   84.335106  31.871063  13.862088  0.0   \n",
       "4  0.529071  0.0  381.240890  35.412292  35.395974  1.0   \n",
       "\n",
       "                                                  T2  \\\n",
       "0  93683a6e0b6bd3edd67ef43c2cecb4cfbd6b06d27722d9...   \n",
       "1                                                NaN   \n",
       "2  06f2421bcda7cedcdc3478204645904af812e62238f165...   \n",
       "3  2904ac38d4fedd52ccb2c11cb3038a68004844fbdcb832...   \n",
       "4  e24e85d37fb651d26714fe75c55af377484ba67b651141...   \n",
       "\n",
       "                                                  T3  \\\n",
       "0  8ea76c2c46d5517b905cf8e07813b1110d61c9ed452431...   \n",
       "1                                                NaN   \n",
       "2  e7843ac01206c17efd45575f6e9f9443a138a099a4ac35...   \n",
       "3  8ea76c2c46d5517b905cf8e07813b1110d61c9ed452431...   \n",
       "4  1133a816b2e3f67edd21524d05e3f4da41c9fc9ae00df4...   \n",
       "\n",
       "                                                  T4  \\\n",
       "0  0fb19dacd118115dfae8dac219437a8527f4f28bce7074...   \n",
       "1                                                NaN   \n",
       "2  ba52f8d4b29586449c5cd6ef81890cb9af48f492ba99c5...   \n",
       "3  f4447ab9a18e074f7d0aa56c6417296976ac0a168275d3...   \n",
       "4  ba52f8d4b29586449c5cd6ef81890cb9af48f492ba99c5...   \n",
       "\n",
       "                                                  T5  \n",
       "0  7ea85151d13febdc421dd3ebacba8d9c08c3688f3a9c29...  \n",
       "1                                                NaN  \n",
       "2  973ca067b185cbd2ae7ef795d3e35e98454309e3c3d083...  \n",
       "3  7ea85151d13febdc421dd3ebacba8d9c08c3688f3a9c29...  \n",
       "4  973ca067b185cbd2ae7ef795d3e35e98454309e3c3d083...  \n",
       "\n",
       "[5 rows x 49 columns]"
      ]
     },
     "execution_count": 6,
     "metadata": {},
     "output_type": "execute_result"
    }
   ],
   "source": [
    "train.head(5)"
   ]
  },
  {
   "cell_type": "code",
   "execution_count": 7,
   "metadata": {
    "collapsed": false
   },
   "outputs": [
    {
     "data": {
      "text/html": [
       "<div>\n",
       "<table border=\"1\" class=\"dataframe\">\n",
       "  <thead>\n",
       "    <tr style=\"text-align: right;\">\n",
       "      <th></th>\n",
       "      <th>Target</th>\n",
       "      <th>ID</th>\n",
       "      <th>MONTH_AGO</th>\n",
       "      <th>V1</th>\n",
       "      <th>V2</th>\n",
       "      <th>V3</th>\n",
       "      <th>V4</th>\n",
       "      <th>V5</th>\n",
       "      <th>V6</th>\n",
       "      <th>V7</th>\n",
       "      <th>...</th>\n",
       "      <th>V37</th>\n",
       "      <th>V38</th>\n",
       "      <th>V39</th>\n",
       "      <th>V40</th>\n",
       "      <th>V41</th>\n",
       "      <th>T1</th>\n",
       "      <th>T2</th>\n",
       "      <th>T3</th>\n",
       "      <th>T4</th>\n",
       "      <th>T5</th>\n",
       "    </tr>\n",
       "  </thead>\n",
       "  <tbody>\n",
       "    <tr>\n",
       "      <th>0</th>\n",
       "      <td>0</td>\n",
       "      <td>13921</td>\n",
       "      <td>6</td>\n",
       "      <td>51.018376</td>\n",
       "      <td>0.845</td>\n",
       "      <td>NaN</td>\n",
       "      <td>34.828215</td>\n",
       "      <td>0.000000</td>\n",
       "      <td>44.093328</td>\n",
       "      <td>142.135340</td>\n",
       "      <td>...</td>\n",
       "      <td>0.000000</td>\n",
       "      <td>0.0</td>\n",
       "      <td>185.999343</td>\n",
       "      <td>34.231882</td>\n",
       "      <td>26.827265</td>\n",
       "      <td>1.0</td>\n",
       "      <td>5dbcd4d33ba732c89e2810565fdcd0202629a046e6a370...</td>\n",
       "      <td>b55a5ab83b4d4958e1772a7b582bca034043c893dbb77b...</td>\n",
       "      <td>ba52f8d4b29586449c5cd6ef81890cb9af48f492ba99c5...</td>\n",
       "      <td>973ca067b185cbd2ae7ef795d3e35e98454309e3c3d083...</td>\n",
       "    </tr>\n",
       "    <tr>\n",
       "      <th>1</th>\n",
       "      <td>0</td>\n",
       "      <td>11966</td>\n",
       "      <td>6</td>\n",
       "      <td>27.961995</td>\n",
       "      <td>0.000</td>\n",
       "      <td>22.982971</td>\n",
       "      <td>0.000000</td>\n",
       "      <td>0.891191</td>\n",
       "      <td>113.044476</td>\n",
       "      <td>462.329214</td>\n",
       "      <td>...</td>\n",
       "      <td>9.505648</td>\n",
       "      <td>0.0</td>\n",
       "      <td>226.433983</td>\n",
       "      <td>35.412292</td>\n",
       "      <td>29.141618</td>\n",
       "      <td>0.0</td>\n",
       "      <td>ab24f5d32981ecc35c76070c7347d0711b0bc4e27e3187...</td>\n",
       "      <td>1133a816b2e3f67edd21524d05e3f4da41c9fc9ae00df4...</td>\n",
       "      <td>0fb19dacd118115dfae8dac219437a8527f4f28bce7074...</td>\n",
       "      <td>7ea85151d13febdc421dd3ebacba8d9c08c3688f3a9c29...</td>\n",
       "    </tr>\n",
       "    <tr>\n",
       "      <th>2</th>\n",
       "      <td>0</td>\n",
       "      <td>11025</td>\n",
       "      <td>6</td>\n",
       "      <td>0.000000</td>\n",
       "      <td>0.000</td>\n",
       "      <td>15.321981</td>\n",
       "      <td>0.000000</td>\n",
       "      <td>0.000000</td>\n",
       "      <td>15.547406</td>\n",
       "      <td>80.333604</td>\n",
       "      <td>...</td>\n",
       "      <td>0.000000</td>\n",
       "      <td>0.0</td>\n",
       "      <td>71.627076</td>\n",
       "      <td>23.608195</td>\n",
       "      <td>12.364566</td>\n",
       "      <td>0.0</td>\n",
       "      <td>e63bbbeab8931f671216801eb10bf95176e98595bf3e74...</td>\n",
       "      <td>e7843ac01206c17efd45575f6e9f9443a138a099a4ac35...</td>\n",
       "      <td>ba52f8d4b29586449c5cd6ef81890cb9af48f492ba99c5...</td>\n",
       "      <td>973ca067b185cbd2ae7ef795d3e35e98454309e3c3d083...</td>\n",
       "    </tr>\n",
       "    <tr>\n",
       "      <th>3</th>\n",
       "      <td>0</td>\n",
       "      <td>13484</td>\n",
       "      <td>6</td>\n",
       "      <td>39.244905</td>\n",
       "      <td>0.000</td>\n",
       "      <td>22.216872</td>\n",
       "      <td>0.000000</td>\n",
       "      <td>0.000000</td>\n",
       "      <td>30.529303</td>\n",
       "      <td>133.113246</td>\n",
       "      <td>...</td>\n",
       "      <td>0.000000</td>\n",
       "      <td>0.0</td>\n",
       "      <td>97.043136</td>\n",
       "      <td>34.231882</td>\n",
       "      <td>17.417702</td>\n",
       "      <td>0.0</td>\n",
       "      <td>a7d89f618b81d0d6fd8ac715febd482456516a73b29a56...</td>\n",
       "      <td>8ea76c2c46d5517b905cf8e07813b1110d61c9ed452431...</td>\n",
       "      <td>0fb19dacd118115dfae8dac219437a8527f4f28bce7074...</td>\n",
       "      <td>7ea85151d13febdc421dd3ebacba8d9c08c3688f3a9c29...</td>\n",
       "    </tr>\n",
       "    <tr>\n",
       "      <th>4</th>\n",
       "      <td>0</td>\n",
       "      <td>14333</td>\n",
       "      <td>6</td>\n",
       "      <td>158.451303</td>\n",
       "      <td>0.845</td>\n",
       "      <td>22.982971</td>\n",
       "      <td>34.828215</td>\n",
       "      <td>6.238334</td>\n",
       "      <td>62.779720</td>\n",
       "      <td>253.751305</td>\n",
       "      <td>...</td>\n",
       "      <td>2.645357</td>\n",
       "      <td>0.0</td>\n",
       "      <td>231.055085</td>\n",
       "      <td>35.412292</td>\n",
       "      <td>53.254124</td>\n",
       "      <td>0.0</td>\n",
       "      <td>8a7a3c721cb971c8ff22eaf366714e7fd344ad979d93c6...</td>\n",
       "      <td>618fe54518955213355d132a95d89bb2e4e2ac5b3e554e...</td>\n",
       "      <td>ba52f8d4b29586449c5cd6ef81890cb9af48f492ba99c5...</td>\n",
       "      <td>973ca067b185cbd2ae7ef795d3e35e98454309e3c3d083...</td>\n",
       "    </tr>\n",
       "  </tbody>\n",
       "</table>\n",
       "<p>5 rows × 49 columns</p>\n",
       "</div>"
      ],
      "text/plain": [
       "   Target     ID  MONTH_AGO          V1     V2         V3         V4  \\\n",
       "0       0  13921          6   51.018376  0.845        NaN  34.828215   \n",
       "1       0  11966          6   27.961995  0.000  22.982971   0.000000   \n",
       "2       0  11025          6    0.000000  0.000  15.321981   0.000000   \n",
       "3       0  13484          6   39.244905  0.000  22.216872   0.000000   \n",
       "4       0  14333          6  158.451303  0.845  22.982971  34.828215   \n",
       "\n",
       "         V5          V6          V7  \\\n",
       "0  0.000000   44.093328  142.135340   \n",
       "1  0.891191  113.044476  462.329214   \n",
       "2  0.000000   15.547406   80.333604   \n",
       "3  0.000000   30.529303  133.113246   \n",
       "4  6.238334   62.779720  253.751305   \n",
       "\n",
       "                         ...                               V37  V38  \\\n",
       "0                        ...                          0.000000  0.0   \n",
       "1                        ...                          9.505648  0.0   \n",
       "2                        ...                          0.000000  0.0   \n",
       "3                        ...                          0.000000  0.0   \n",
       "4                        ...                          2.645357  0.0   \n",
       "\n",
       "          V39        V40        V41   T1  \\\n",
       "0  185.999343  34.231882  26.827265  1.0   \n",
       "1  226.433983  35.412292  29.141618  0.0   \n",
       "2   71.627076  23.608195  12.364566  0.0   \n",
       "3   97.043136  34.231882  17.417702  0.0   \n",
       "4  231.055085  35.412292  53.254124  0.0   \n",
       "\n",
       "                                                  T2  \\\n",
       "0  5dbcd4d33ba732c89e2810565fdcd0202629a046e6a370...   \n",
       "1  ab24f5d32981ecc35c76070c7347d0711b0bc4e27e3187...   \n",
       "2  e63bbbeab8931f671216801eb10bf95176e98595bf3e74...   \n",
       "3  a7d89f618b81d0d6fd8ac715febd482456516a73b29a56...   \n",
       "4  8a7a3c721cb971c8ff22eaf366714e7fd344ad979d93c6...   \n",
       "\n",
       "                                                  T3  \\\n",
       "0  b55a5ab83b4d4958e1772a7b582bca034043c893dbb77b...   \n",
       "1  1133a816b2e3f67edd21524d05e3f4da41c9fc9ae00df4...   \n",
       "2  e7843ac01206c17efd45575f6e9f9443a138a099a4ac35...   \n",
       "3  8ea76c2c46d5517b905cf8e07813b1110d61c9ed452431...   \n",
       "4  618fe54518955213355d132a95d89bb2e4e2ac5b3e554e...   \n",
       "\n",
       "                                                  T4  \\\n",
       "0  ba52f8d4b29586449c5cd6ef81890cb9af48f492ba99c5...   \n",
       "1  0fb19dacd118115dfae8dac219437a8527f4f28bce7074...   \n",
       "2  ba52f8d4b29586449c5cd6ef81890cb9af48f492ba99c5...   \n",
       "3  0fb19dacd118115dfae8dac219437a8527f4f28bce7074...   \n",
       "4  ba52f8d4b29586449c5cd6ef81890cb9af48f492ba99c5...   \n",
       "\n",
       "                                                  T5  \n",
       "0  973ca067b185cbd2ae7ef795d3e35e98454309e3c3d083...  \n",
       "1  7ea85151d13febdc421dd3ebacba8d9c08c3688f3a9c29...  \n",
       "2  973ca067b185cbd2ae7ef795d3e35e98454309e3c3d083...  \n",
       "3  7ea85151d13febdc421dd3ebacba8d9c08c3688f3a9c29...  \n",
       "4  973ca067b185cbd2ae7ef795d3e35e98454309e3c3d083...  \n",
       "\n",
       "[5 rows x 49 columns]"
      ]
     },
     "execution_count": 7,
     "metadata": {},
     "output_type": "execute_result"
    }
   ],
   "source": [
    "test.head(5)"
   ]
  },
  {
   "cell_type": "code",
   "execution_count": 8,
   "metadata": {
    "collapsed": false
   },
   "outputs": [],
   "source": [
    "#Data preprocessing\n",
    "labels = train.Target.values\n",
    "labels = preprocessing.LabelEncoder().fit_transform(labels)\n",
    "train = train.drop([\"ID\", \"Target\"], axis=1)\n",
    "features=list(train.columns[0:])\n",
    "test = test.drop([\"ID\", \"Target\"], axis=1)"
   ]
  },
  {
   "cell_type": "code",
   "execution_count": 9,
   "metadata": {
    "collapsed": false
   },
   "outputs": [
    {
     "name": "stdout",
     "output_type": "stream",
     "text": [
      "Categorical features: 4\n",
      "Numerical features: 43\n"
     ]
    }
   ],
   "source": [
    "#Divide categorical and numerical features:\n",
    "features = [x for x in train.columns if x not in ['ID','Target']]\n",
    "\n",
    "cat_features = [x for x in train.select_dtypes(\n",
    "        include=['object']).columns if x not in ['ID','Target']]\n",
    "num_features = [x for x in train.select_dtypes(\n",
    "        exclude=['object']).columns if x not in ['ID','Target']]\n",
    "\n",
    "print (\"Categorical features:\" , len(cat_features))\n",
    "print (\"Numerical features:\", len(num_features))"
   ]
  },
  {
   "cell_type": "code",
   "execution_count": 10,
   "metadata": {
    "collapsed": false
   },
   "outputs": [],
   "source": [
    "# use a label encoder for categorical features\n",
    "## for train dataset  \n",
    "train= train[features]\n",
    "for c in range(len(cat_features)):\n",
    "    train[cat_features[c]] = train[cat_features[c]].astype('category').cat.codes\n",
    "## for test dataset    \n",
    "test= test[features]\n",
    "for c in range(len(cat_features)):\n",
    "    test[cat_features[c]] = test[cat_features[c]].astype('category').cat.codes\n",
    "# convert variable to a float\n",
    "train[['T2', 'T3', 'T4', 'T5']] = train[['T2', 'T3', 'T4', 'T5']].astype(float)\n",
    "test[['T2', 'T3', 'T4', 'T5']] = test[['T2', 'T3', 'T4', 'T5']].astype(float)"
   ]
  },
  {
   "cell_type": "code",
   "execution_count": 11,
   "metadata": {
    "collapsed": false
   },
   "outputs": [],
   "source": [
    "# Simple XGBoost Model\n",
    "\n",
    "#to do multiclass classification use the softmax objective and set number of classes = 3 \n",
    "\n",
    "params = {\"objective\": \"multi:softmax\", \"num_class\": 3}\n",
    "\n",
    "#transform datasets into the DMatrix\n",
    "train_xgb = xgb.DMatrix(train, labels)\n",
    "test_xgb  = xgb.DMatrix(test)\n",
    "trainRound = 33"
   ]
  },
  {
   "cell_type": "code",
   "execution_count": 12,
   "metadata": {
    "collapsed": false
   },
   "outputs": [],
   "source": [
    "gbm = xgb.train(params, train_xgb, trainRound)\n",
    "pred = gbm.predict(test_xgb)"
   ]
  },
  {
   "cell_type": "code",
   "execution_count": 13,
   "metadata": {
    "collapsed": false
   },
   "outputs": [],
   "source": [
    "# create a feature map\n",
    "outfile = open('xgb.fmap', 'w')\n",
    "i = 0\n",
    "for feat in features:\n",
    "    outfile.write('{0}\\t{1}\\tq\\n'.format(i, feat))\n",
    "    i = i + 1\n",
    "outfile.close()"
   ]
  },
  {
   "cell_type": "code",
   "execution_count": 14,
   "metadata": {
    "collapsed": false
   },
   "outputs": [
    {
     "data": {
      "text/plain": [
       "<matplotlib.figure.Figure at 0xbb96390>"
      ]
     },
     "metadata": {},
     "output_type": "display_data"
    },
    {
     "data": {
      "image/png": "[encoded data removed]",
      "text/plain": [
       "<matplotlib.figure.Figure at 0xbb96dd8>"
      ]
     },
     "metadata": {},
     "output_type": "display_data"
    },
    {
     "data": {
      "image/png": "[encoded data removed]",
      "text/plain": [
       "<matplotlib.figure.Figure at 0xb709a58>"
      ]
     },
     "metadata": {},
     "output_type": "display_data"
    }
   ],
   "source": [
    "# plot feature importance\n",
    "importance = gbm.get_fscore(fmap='xgb.fmap')\n",
    "importance = sorted(importance.items(), key=operator.itemgetter(1))\n",
    "df = pd.DataFrame(importance, columns=['feature', 'fscore'])\n",
    "df['fscore'] = df['fscore'] / df['fscore'].sum()\n",
    "plt.figure()\n",
    "df.plot()\n",
    "df.plot(kind='barh', x='feature', y='fscore', legend=False, figsize=(6, 20))\n",
    "plt.title('XGBoost Feature Importance')\n",
    "plt.xlabel('relative importance')\n",
    "plt.gcf().savefig('feature_importance_xgb.png')"
   ]
  },
  {
   "cell_type": "code",
   "execution_count": 15,
   "metadata": {
    "collapsed": false
   },
   "outputs": [],
   "source": [
    "pred1 = pd.DataFrame(pred)\n",
    "test_df['Target']=pred1+1\n",
    "test_df[['Target','ID']]= test_df[['Target','ID']].astype(int)"
   ]
  },
  {
   "cell_type": "code",
   "execution_count": 16,
   "metadata": {
    "collapsed": false
   },
   "outputs": [],
   "source": [
    "# create submission file\n",
    "test_df.to_csv('test.csv',mode = 'w', index=False )"
   ]
  }
 ],
 "metadata": {
  "anaconda-cloud": {},
  "kernelspec": {
   "display_name": "Python [conda root]",
   "language": "python",
   "name": "conda-root-py"
  },
  "language_info": {
   "codemirror_mode": {
    "name": "ipython",
    "version": 3
   },
   "file_extension": ".py",
   "mimetype": "text/x-python",
   "name": "python",
   "nbconvert_exporter": "python",
   "pygments_lexer": "ipython3",
   "version": "3.5.2"
  }
 },
 "nbformat": 4,
 "nbformat_minor": 2
}
